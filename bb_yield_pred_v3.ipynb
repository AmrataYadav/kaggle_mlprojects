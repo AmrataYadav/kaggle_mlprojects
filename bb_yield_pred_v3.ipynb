{
 "cells": [
  {
   "cell_type": "code",
   "execution_count": null,
   "id": "94a1385e-dffb-47c4-ad96-e397178ce473",
   "metadata": {},
   "outputs": [],
   "source": [
    "# !pip install seaborn"
   ]
  },
  {
   "cell_type": "code",
   "execution_count": 161,
   "id": "fa7219bd-188a-4afc-8810-f3b17f780c39",
   "metadata": {},
   "outputs": [],
   "source": [
    "import os\n",
    "import random\n",
    "import numpy as np\n",
    "import pandas as pd\n",
    "from sklearn.model_selection import train_test_split"
   ]
  },
  {
   "cell_type": "code",
   "execution_count": 162,
   "id": "d7fc5b46-3a3a-43fc-9b4e-d290553458da",
   "metadata": {},
   "outputs": [
    {
     "name": "stdout",
     "output_type": "stream",
     "text": [
      "sample_submission.csv test.csv              train.csv\n"
     ]
    }
   ],
   "source": [
    "!ls ./../../data/blueberry_yield_pred"
   ]
  },
  {
   "cell_type": "code",
   "execution_count": 163,
   "id": "25736bae-549e-4eb4-b71b-9340742f38d6",
   "metadata": {},
   "outputs": [],
   "source": [
    "### Data Preparation and EDA"
   ]
  },
  {
   "cell_type": "code",
   "execution_count": 164,
   "id": "ae5787e9-58e9-4a6e-ae82-0b2dd1b096be",
   "metadata": {},
   "outputs": [],
   "source": [
    "train_df=pd.read_csv('./../../data/blueberry_yield_pred/train.csv')\n",
    "test_df=pd.read_csv('./../../data/blueberry_yield_pred/test.csv')"
   ]
  },
  {
   "cell_type": "code",
   "execution_count": 165,
   "id": "a6ff2950-014e-4dfe-9906-8aa4c72dd1e9",
   "metadata": {},
   "outputs": [
    {
     "data": {
      "text/html": [
       "<div>\n",
       "<style scoped>\n",
       "    .dataframe tbody tr th:only-of-type {\n",
       "        vertical-align: middle;\n",
       "    }\n",
       "\n",
       "    .dataframe tbody tr th {\n",
       "        vertical-align: top;\n",
       "    }\n",
       "\n",
       "    .dataframe thead th {\n",
       "        text-align: right;\n",
       "    }\n",
       "</style>\n",
       "<table border=\"1\" class=\"dataframe\">\n",
       "  <thead>\n",
       "    <tr style=\"text-align: right;\">\n",
       "      <th></th>\n",
       "      <th>id</th>\n",
       "      <th>clonesize</th>\n",
       "      <th>honeybee</th>\n",
       "      <th>bumbles</th>\n",
       "      <th>andrena</th>\n",
       "      <th>osmia</th>\n",
       "      <th>MaxOfUpperTRange</th>\n",
       "      <th>MinOfUpperTRange</th>\n",
       "      <th>AverageOfUpperTRange</th>\n",
       "      <th>MaxOfLowerTRange</th>\n",
       "      <th>MinOfLowerTRange</th>\n",
       "      <th>AverageOfLowerTRange</th>\n",
       "      <th>RainingDays</th>\n",
       "      <th>AverageRainingDays</th>\n",
       "      <th>fruitset</th>\n",
       "      <th>fruitmass</th>\n",
       "      <th>seeds</th>\n",
       "      <th>yield</th>\n",
       "    </tr>\n",
       "  </thead>\n",
       "  <tbody>\n",
       "    <tr>\n",
       "      <th>0</th>\n",
       "      <td>0</td>\n",
       "      <td>25.0</td>\n",
       "      <td>0.50</td>\n",
       "      <td>0.25</td>\n",
       "      <td>0.75</td>\n",
       "      <td>0.50</td>\n",
       "      <td>69.7</td>\n",
       "      <td>42.1</td>\n",
       "      <td>58.2</td>\n",
       "      <td>50.2</td>\n",
       "      <td>24.3</td>\n",
       "      <td>41.2</td>\n",
       "      <td>24.0</td>\n",
       "      <td>0.39</td>\n",
       "      <td>0.425011</td>\n",
       "      <td>0.417545</td>\n",
       "      <td>32.460887</td>\n",
       "      <td>4476.81146</td>\n",
       "    </tr>\n",
       "    <tr>\n",
       "      <th>1</th>\n",
       "      <td>1</td>\n",
       "      <td>25.0</td>\n",
       "      <td>0.50</td>\n",
       "      <td>0.25</td>\n",
       "      <td>0.50</td>\n",
       "      <td>0.50</td>\n",
       "      <td>69.7</td>\n",
       "      <td>42.1</td>\n",
       "      <td>58.2</td>\n",
       "      <td>50.2</td>\n",
       "      <td>24.3</td>\n",
       "      <td>41.2</td>\n",
       "      <td>24.0</td>\n",
       "      <td>0.39</td>\n",
       "      <td>0.444908</td>\n",
       "      <td>0.422051</td>\n",
       "      <td>33.858317</td>\n",
       "      <td>5548.12201</td>\n",
       "    </tr>\n",
       "    <tr>\n",
       "      <th>2</th>\n",
       "      <td>2</td>\n",
       "      <td>12.5</td>\n",
       "      <td>0.25</td>\n",
       "      <td>0.25</td>\n",
       "      <td>0.63</td>\n",
       "      <td>0.63</td>\n",
       "      <td>86.0</td>\n",
       "      <td>52.0</td>\n",
       "      <td>71.9</td>\n",
       "      <td>62.0</td>\n",
       "      <td>30.0</td>\n",
       "      <td>50.8</td>\n",
       "      <td>24.0</td>\n",
       "      <td>0.39</td>\n",
       "      <td>0.552927</td>\n",
       "      <td>0.470853</td>\n",
       "      <td>38.341781</td>\n",
       "      <td>6869.77760</td>\n",
       "    </tr>\n",
       "    <tr>\n",
       "      <th>3</th>\n",
       "      <td>3</td>\n",
       "      <td>12.5</td>\n",
       "      <td>0.25</td>\n",
       "      <td>0.25</td>\n",
       "      <td>0.63</td>\n",
       "      <td>0.50</td>\n",
       "      <td>77.4</td>\n",
       "      <td>46.8</td>\n",
       "      <td>64.7</td>\n",
       "      <td>55.8</td>\n",
       "      <td>27.0</td>\n",
       "      <td>45.8</td>\n",
       "      <td>24.0</td>\n",
       "      <td>0.39</td>\n",
       "      <td>0.565976</td>\n",
       "      <td>0.478137</td>\n",
       "      <td>39.467561</td>\n",
       "      <td>6880.77590</td>\n",
       "    </tr>\n",
       "    <tr>\n",
       "      <th>4</th>\n",
       "      <td>4</td>\n",
       "      <td>25.0</td>\n",
       "      <td>0.50</td>\n",
       "      <td>0.25</td>\n",
       "      <td>0.63</td>\n",
       "      <td>0.63</td>\n",
       "      <td>77.4</td>\n",
       "      <td>46.8</td>\n",
       "      <td>64.7</td>\n",
       "      <td>55.8</td>\n",
       "      <td>27.0</td>\n",
       "      <td>45.8</td>\n",
       "      <td>24.0</td>\n",
       "      <td>0.39</td>\n",
       "      <td>0.579677</td>\n",
       "      <td>0.494165</td>\n",
       "      <td>40.484512</td>\n",
       "      <td>7479.93417</td>\n",
       "    </tr>\n",
       "  </tbody>\n",
       "</table>\n",
       "</div>"
      ],
      "text/plain": [
       "   id  clonesize  honeybee  bumbles  andrena  osmia  MaxOfUpperTRange  \\\n",
       "0   0       25.0      0.50     0.25     0.75   0.50              69.7   \n",
       "1   1       25.0      0.50     0.25     0.50   0.50              69.7   \n",
       "2   2       12.5      0.25     0.25     0.63   0.63              86.0   \n",
       "3   3       12.5      0.25     0.25     0.63   0.50              77.4   \n",
       "4   4       25.0      0.50     0.25     0.63   0.63              77.4   \n",
       "\n",
       "   MinOfUpperTRange  AverageOfUpperTRange  MaxOfLowerTRange  MinOfLowerTRange  \\\n",
       "0              42.1                  58.2              50.2              24.3   \n",
       "1              42.1                  58.2              50.2              24.3   \n",
       "2              52.0                  71.9              62.0              30.0   \n",
       "3              46.8                  64.7              55.8              27.0   \n",
       "4              46.8                  64.7              55.8              27.0   \n",
       "\n",
       "   AverageOfLowerTRange  RainingDays  AverageRainingDays  fruitset  fruitmass  \\\n",
       "0                  41.2         24.0                0.39  0.425011   0.417545   \n",
       "1                  41.2         24.0                0.39  0.444908   0.422051   \n",
       "2                  50.8         24.0                0.39  0.552927   0.470853   \n",
       "3                  45.8         24.0                0.39  0.565976   0.478137   \n",
       "4                  45.8         24.0                0.39  0.579677   0.494165   \n",
       "\n",
       "       seeds       yield  \n",
       "0  32.460887  4476.81146  \n",
       "1  33.858317  5548.12201  \n",
       "2  38.341781  6869.77760  \n",
       "3  39.467561  6880.77590  \n",
       "4  40.484512  7479.93417  "
      ]
     },
     "execution_count": 165,
     "metadata": {},
     "output_type": "execute_result"
    }
   ],
   "source": [
    "train_df.head()"
   ]
  },
  {
   "cell_type": "code",
   "execution_count": 166,
   "id": "86c083d6-97c4-4403-84ac-fed680ec7cc0",
   "metadata": {},
   "outputs": [
    {
     "data": {
      "text/plain": [
       "Index(['id', 'clonesize', 'honeybee', 'bumbles', 'andrena', 'osmia',\n",
       "       'MaxOfUpperTRange', 'MinOfUpperTRange', 'AverageOfUpperTRange',\n",
       "       'MaxOfLowerTRange', 'MinOfLowerTRange', 'AverageOfLowerTRange',\n",
       "       'RainingDays', 'AverageRainingDays', 'fruitset', 'fruitmass', 'seeds',\n",
       "       'yield'],\n",
       "      dtype='object')"
      ]
     },
     "execution_count": 166,
     "metadata": {},
     "output_type": "execute_result"
    }
   ],
   "source": [
    "train_df.columns"
   ]
  },
  {
   "cell_type": "code",
   "execution_count": 167,
   "id": "fa4d75a1-12c0-4e3c-aa80-c43c613073dc",
   "metadata": {},
   "outputs": [
    {
     "data": {
      "text/html": [
       "<div>\n",
       "<style scoped>\n",
       "    .dataframe tbody tr th:only-of-type {\n",
       "        vertical-align: middle;\n",
       "    }\n",
       "\n",
       "    .dataframe tbody tr th {\n",
       "        vertical-align: top;\n",
       "    }\n",
       "\n",
       "    .dataframe thead th {\n",
       "        text-align: right;\n",
       "    }\n",
       "</style>\n",
       "<table border=\"1\" class=\"dataframe\">\n",
       "  <thead>\n",
       "    <tr style=\"text-align: right;\">\n",
       "      <th></th>\n",
       "      <th>id</th>\n",
       "      <th>clonesize</th>\n",
       "      <th>honeybee</th>\n",
       "      <th>bumbles</th>\n",
       "      <th>andrena</th>\n",
       "      <th>osmia</th>\n",
       "      <th>MaxOfUpperTRange</th>\n",
       "      <th>MinOfUpperTRange</th>\n",
       "      <th>AverageOfUpperTRange</th>\n",
       "      <th>MaxOfLowerTRange</th>\n",
       "      <th>MinOfLowerTRange</th>\n",
       "      <th>AverageOfLowerTRange</th>\n",
       "      <th>RainingDays</th>\n",
       "      <th>AverageRainingDays</th>\n",
       "      <th>fruitset</th>\n",
       "      <th>fruitmass</th>\n",
       "      <th>seeds</th>\n",
       "    </tr>\n",
       "  </thead>\n",
       "  <tbody>\n",
       "    <tr>\n",
       "      <th>0</th>\n",
       "      <td>15289</td>\n",
       "      <td>25.0</td>\n",
       "      <td>0.25</td>\n",
       "      <td>0.25</td>\n",
       "      <td>0.25</td>\n",
       "      <td>0.25</td>\n",
       "      <td>86.0</td>\n",
       "      <td>52.0</td>\n",
       "      <td>71.9</td>\n",
       "      <td>62.0</td>\n",
       "      <td>30.0</td>\n",
       "      <td>50.8</td>\n",
       "      <td>24.0</td>\n",
       "      <td>0.39</td>\n",
       "      <td>0.399367</td>\n",
       "      <td>0.408088</td>\n",
       "      <td>31.394569</td>\n",
       "    </tr>\n",
       "    <tr>\n",
       "      <th>1</th>\n",
       "      <td>15290</td>\n",
       "      <td>12.5</td>\n",
       "      <td>0.25</td>\n",
       "      <td>0.25</td>\n",
       "      <td>0.75</td>\n",
       "      <td>0.63</td>\n",
       "      <td>94.6</td>\n",
       "      <td>57.2</td>\n",
       "      <td>79.0</td>\n",
       "      <td>68.2</td>\n",
       "      <td>33.0</td>\n",
       "      <td>55.9</td>\n",
       "      <td>1.0</td>\n",
       "      <td>0.10</td>\n",
       "      <td>0.488048</td>\n",
       "      <td>0.442866</td>\n",
       "      <td>36.846956</td>\n",
       "    </tr>\n",
       "    <tr>\n",
       "      <th>2</th>\n",
       "      <td>15291</td>\n",
       "      <td>12.5</td>\n",
       "      <td>0.25</td>\n",
       "      <td>0.25</td>\n",
       "      <td>0.63</td>\n",
       "      <td>0.63</td>\n",
       "      <td>86.0</td>\n",
       "      <td>52.0</td>\n",
       "      <td>71.9</td>\n",
       "      <td>62.0</td>\n",
       "      <td>30.0</td>\n",
       "      <td>50.8</td>\n",
       "      <td>16.0</td>\n",
       "      <td>0.26</td>\n",
       "      <td>0.583379</td>\n",
       "      <td>0.487057</td>\n",
       "      <td>40.037644</td>\n",
       "    </tr>\n",
       "    <tr>\n",
       "      <th>3</th>\n",
       "      <td>15292</td>\n",
       "      <td>25.0</td>\n",
       "      <td>0.50</td>\n",
       "      <td>0.38</td>\n",
       "      <td>0.38</td>\n",
       "      <td>0.63</td>\n",
       "      <td>86.0</td>\n",
       "      <td>52.0</td>\n",
       "      <td>71.9</td>\n",
       "      <td>62.0</td>\n",
       "      <td>30.0</td>\n",
       "      <td>50.8</td>\n",
       "      <td>16.0</td>\n",
       "      <td>0.26</td>\n",
       "      <td>0.433014</td>\n",
       "      <td>0.422847</td>\n",
       "      <td>33.116091</td>\n",
       "    </tr>\n",
       "    <tr>\n",
       "      <th>4</th>\n",
       "      <td>15293</td>\n",
       "      <td>37.5</td>\n",
       "      <td>0.75</td>\n",
       "      <td>0.25</td>\n",
       "      <td>0.25</td>\n",
       "      <td>0.25</td>\n",
       "      <td>94.6</td>\n",
       "      <td>57.2</td>\n",
       "      <td>79.0</td>\n",
       "      <td>68.2</td>\n",
       "      <td>33.0</td>\n",
       "      <td>55.9</td>\n",
       "      <td>24.0</td>\n",
       "      <td>0.39</td>\n",
       "      <td>0.360996</td>\n",
       "      <td>0.388860</td>\n",
       "      <td>29.558019</td>\n",
       "    </tr>\n",
       "  </tbody>\n",
       "</table>\n",
       "</div>"
      ],
      "text/plain": [
       "      id  clonesize  honeybee  bumbles  andrena  osmia  MaxOfUpperTRange  \\\n",
       "0  15289       25.0      0.25     0.25     0.25   0.25              86.0   \n",
       "1  15290       12.5      0.25     0.25     0.75   0.63              94.6   \n",
       "2  15291       12.5      0.25     0.25     0.63   0.63              86.0   \n",
       "3  15292       25.0      0.50     0.38     0.38   0.63              86.0   \n",
       "4  15293       37.5      0.75     0.25     0.25   0.25              94.6   \n",
       "\n",
       "   MinOfUpperTRange  AverageOfUpperTRange  MaxOfLowerTRange  MinOfLowerTRange  \\\n",
       "0              52.0                  71.9              62.0              30.0   \n",
       "1              57.2                  79.0              68.2              33.0   \n",
       "2              52.0                  71.9              62.0              30.0   \n",
       "3              52.0                  71.9              62.0              30.0   \n",
       "4              57.2                  79.0              68.2              33.0   \n",
       "\n",
       "   AverageOfLowerTRange  RainingDays  AverageRainingDays  fruitset  fruitmass  \\\n",
       "0                  50.8         24.0                0.39  0.399367   0.408088   \n",
       "1                  55.9          1.0                0.10  0.488048   0.442866   \n",
       "2                  50.8         16.0                0.26  0.583379   0.487057   \n",
       "3                  50.8         16.0                0.26  0.433014   0.422847   \n",
       "4                  55.9         24.0                0.39  0.360996   0.388860   \n",
       "\n",
       "       seeds  \n",
       "0  31.394569  \n",
       "1  36.846956  \n",
       "2  40.037644  \n",
       "3  33.116091  \n",
       "4  29.558019  "
      ]
     },
     "execution_count": 167,
     "metadata": {},
     "output_type": "execute_result"
    }
   ],
   "source": [
    "test_df.head()"
   ]
  },
  {
   "cell_type": "code",
   "execution_count": 168,
   "id": "d3f13744-97f4-43a7-8a63-f558e9882d33",
   "metadata": {},
   "outputs": [
    {
     "name": "stdout",
     "output_type": "stream",
     "text": [
      "(15289, 18)\n",
      "(10194, 17)\n"
     ]
    }
   ],
   "source": [
    "print(train_df.shape)\n",
    "print(test_df.shape)"
   ]
  },
  {
   "cell_type": "code",
   "execution_count": 169,
   "id": "1dc536d1-5765-4478-98c4-fa35e851af5c",
   "metadata": {},
   "outputs": [],
   "source": [
    "### Plots"
   ]
  },
  {
   "cell_type": "code",
   "execution_count": 170,
   "id": "c67a56de-6f36-494a-8a99-cb113ea46daf",
   "metadata": {},
   "outputs": [],
   "source": [
    "import matplotlib.pyplot as plt\n",
    "import matplotlib\n",
    "import seaborn as sns\n",
    "%matplotlib inline"
   ]
  },
  {
   "cell_type": "code",
   "execution_count": 171,
   "id": "560567a8-216a-4594-86ab-a9f7933ecd21",
   "metadata": {},
   "outputs": [
    {
     "data": {
      "text/plain": [
       "<Axes: >"
      ]
     },
     "execution_count": 171,
     "metadata": {},
     "output_type": "execute_result"
    },
    {
     "data": {
      "image/png": "[encoded data removed]",
      "text/plain": [
       "<Figure size 640x480 with 1 Axes>"
      ]
     },
     "metadata": {},
     "output_type": "display_data"
    }
   ],
   "source": [
    "sns.boxplot(data=train_df[['clonesize', 'honeybee', 'bumbles', 'andrena', 'osmia', 'MaxOfUpperTRange',\n",
    "                      'MinOfUpperTRange', 'AverageOfUpperTRange', 'MaxOfLowerTRange', 'MinOfLowerTRange',\n",
    "                      'AverageOfLowerTRange', 'RainingDays', 'AverageRainingDays', 'fruitset', 'fruitmass',\n",
    "                      'seeds']], orient=\"h\")"
   ]
  },
  {
   "cell_type": "code",
   "execution_count": 172,
   "id": "8e47d159-1d4e-49db-855d-9cbfbde586d6",
   "metadata": {},
   "outputs": [],
   "source": [
    "#### Remove outliers\n",
    "from scipy import stats\n",
    "train_df_nor = train_df[(np.abs(stats.zscore(train_df)) < 3).all(axis=1)]"
   ]
  },
  {
   "cell_type": "code",
   "execution_count": 173,
   "id": "9459a754-4cc1-4abf-99d5-ded6473f6ab0",
   "metadata": {},
   "outputs": [
    {
     "data": {
      "text/plain": [
       "<Axes: >"
      ]
     },
     "execution_count": 173,
     "metadata": {},
     "output_type": "execute_result"
    },
    {
     "data": {
      "image/png": "[encoded data removed]",
      "text/plain": [
       "<Figure size 640x480 with 1 Axes>"
      ]
     },
     "metadata": {},
     "output_type": "display_data"
    }
   ],
   "source": [
    "sns.boxplot(data=train_df_nor[['clonesize', 'honeybee', 'bumbles', 'andrena', 'osmia', 'MaxOfUpperTRange',\n",
    "                      'MinOfUpperTRange', 'AverageOfUpperTRange', 'MaxOfLowerTRange', 'MinOfLowerTRange',\n",
    "                      'AverageOfLowerTRange', 'RainingDays', 'AverageRainingDays', 'fruitset', 'fruitmass',\n",
    "                      'seeds']], orient=\"h\")"
   ]
  },
  {
   "cell_type": "code",
   "execution_count": 174,
   "id": "70e521f2-a45d-4f3d-bb56-4b954b0c5706",
   "metadata": {},
   "outputs": [
    {
     "data": {
      "text/plain": [
       "(15144, 18)"
      ]
     },
     "execution_count": 174,
     "metadata": {},
     "output_type": "execute_result"
    }
   ],
   "source": [
    "train_df_nor.shape"
   ]
  },
  {
   "cell_type": "code",
   "execution_count": 175,
   "id": "0a4f2521-6adf-4f5a-a9df-bda6af5468f6",
   "metadata": {},
   "outputs": [
    {
     "data": {
      "text/html": [
       "<div>\n",
       "<style scoped>\n",
       "    .dataframe tbody tr th:only-of-type {\n",
       "        vertical-align: middle;\n",
       "    }\n",
       "\n",
       "    .dataframe tbody tr th {\n",
       "        vertical-align: top;\n",
       "    }\n",
       "\n",
       "    .dataframe thead th {\n",
       "        text-align: right;\n",
       "    }\n",
       "</style>\n",
       "<table border=\"1\" class=\"dataframe\">\n",
       "  <thead>\n",
       "    <tr style=\"text-align: right;\">\n",
       "      <th></th>\n",
       "      <th>feature</th>\n",
       "      <th>corr</th>\n",
       "    </tr>\n",
       "  </thead>\n",
       "  <tbody>\n",
       "    <tr>\n",
       "      <th>0</th>\n",
       "      <td>clonesize</td>\n",
       "      <td>-0.382619</td>\n",
       "    </tr>\n",
       "    <tr>\n",
       "      <th>1</th>\n",
       "      <td>honeybee</td>\n",
       "      <td>-0.118001</td>\n",
       "    </tr>\n",
       "    <tr>\n",
       "      <th>2</th>\n",
       "      <td>bumbles</td>\n",
       "      <td>0.161145</td>\n",
       "    </tr>\n",
       "    <tr>\n",
       "      <th>3</th>\n",
       "      <td>andrena</td>\n",
       "      <td>0.073969</td>\n",
       "    </tr>\n",
       "    <tr>\n",
       "      <th>4</th>\n",
       "      <td>osmia</td>\n",
       "      <td>0.198264</td>\n",
       "    </tr>\n",
       "    <tr>\n",
       "      <th>5</th>\n",
       "      <td>MaxOfUpperTRange</td>\n",
       "      <td>-0.022517</td>\n",
       "    </tr>\n",
       "    <tr>\n",
       "      <th>6</th>\n",
       "      <td>MinOfUpperTRange</td>\n",
       "      <td>-0.021929</td>\n",
       "    </tr>\n",
       "    <tr>\n",
       "      <th>7</th>\n",
       "      <td>AverageOfUpperTRange</td>\n",
       "      <td>-0.021940</td>\n",
       "    </tr>\n",
       "    <tr>\n",
       "      <th>8</th>\n",
       "      <td>MaxOfLowerTRange</td>\n",
       "      <td>-0.022197</td>\n",
       "    </tr>\n",
       "    <tr>\n",
       "      <th>9</th>\n",
       "      <td>MinOfLowerTRange</td>\n",
       "      <td>-0.022319</td>\n",
       "    </tr>\n",
       "    <tr>\n",
       "      <th>10</th>\n",
       "      <td>AverageOfLowerTRange</td>\n",
       "      <td>-0.022081</td>\n",
       "    </tr>\n",
       "    <tr>\n",
       "      <th>11</th>\n",
       "      <td>RainingDays</td>\n",
       "      <td>-0.477191</td>\n",
       "    </tr>\n",
       "    <tr>\n",
       "      <th>12</th>\n",
       "      <td>AverageRainingDays</td>\n",
       "      <td>-0.483870</td>\n",
       "    </tr>\n",
       "    <tr>\n",
       "      <th>13</th>\n",
       "      <td>fruitset</td>\n",
       "      <td>0.885967</td>\n",
       "    </tr>\n",
       "    <tr>\n",
       "      <th>14</th>\n",
       "      <td>fruitmass</td>\n",
       "      <td>0.826481</td>\n",
       "    </tr>\n",
       "    <tr>\n",
       "      <th>15</th>\n",
       "      <td>seeds</td>\n",
       "      <td>0.868853</td>\n",
       "    </tr>\n",
       "    <tr>\n",
       "      <th>16</th>\n",
       "      <td>yield</td>\n",
       "      <td>1.000000</td>\n",
       "    </tr>\n",
       "  </tbody>\n",
       "</table>\n",
       "</div>"
      ],
      "text/plain": [
       "                 feature      corr\n",
       "0              clonesize -0.382619\n",
       "1               honeybee -0.118001\n",
       "2                bumbles  0.161145\n",
       "3                andrena  0.073969\n",
       "4                  osmia  0.198264\n",
       "5       MaxOfUpperTRange -0.022517\n",
       "6       MinOfUpperTRange -0.021929\n",
       "7   AverageOfUpperTRange -0.021940\n",
       "8       MaxOfLowerTRange -0.022197\n",
       "9       MinOfLowerTRange -0.022319\n",
       "10  AverageOfLowerTRange -0.022081\n",
       "11           RainingDays -0.477191\n",
       "12    AverageRainingDays -0.483870\n",
       "13              fruitset  0.885967\n",
       "14             fruitmass  0.826481\n",
       "15                 seeds  0.868853\n",
       "16                 yield  1.000000"
      ]
     },
     "execution_count": 175,
     "metadata": {},
     "output_type": "execute_result"
    }
   ],
   "source": [
    "train_df2 = train_df[['clonesize', 'honeybee', 'bumbles', 'andrena', 'osmia',\n",
    "       'MaxOfUpperTRange', 'MinOfUpperTRange', 'AverageOfUpperTRange',\n",
    "       'MaxOfLowerTRange', 'MinOfLowerTRange', 'AverageOfLowerTRange',\n",
    "       'RainingDays', 'AverageRainingDays', 'fruitset', 'fruitmass', 'seeds',\n",
    "       'yield']]\n",
    "\n",
    "df2 = train_df2.corr()[[\"yield\"]].reset_index()\n",
    "df2.columns = [\"feature\", \"corr\"]\n",
    "df2.head(25)"
   ]
  },
  {
   "cell_type": "code",
   "execution_count": 176,
   "id": "6244f30d-67b3-4851-9921-d1973c319cd8",
   "metadata": {},
   "outputs": [],
   "source": [
    "### Data Split"
   ]
  },
  {
   "cell_type": "code",
   "execution_count": 177,
   "id": "64f0d4d2-2d68-4890-985c-6cc565c4f1f8",
   "metadata": {},
   "outputs": [],
   "source": [
    "X = train_df_nor[['clonesize', 'honeybee', 'bumbles', 'andrena', 'osmia', 'MaxOfUpperTRange',\n",
    "                      'MinOfUpperTRange', 'AverageOfUpperTRange', 'MaxOfLowerTRange', 'MinOfLowerTRange',\n",
    "                      'AverageOfLowerTRange', 'RainingDays', 'AverageRainingDays', 'fruitset', 'fruitmass',\n",
    "                      'seeds']]\n",
    "Y = train_df_nor['yield'].to_list()"
   ]
  },
  {
   "cell_type": "code",
   "execution_count": 178,
   "id": "096bc35b-ffa8-42c1-869e-3e63d1f36e89",
   "metadata": {},
   "outputs": [],
   "source": [
    "X_train, X_test, y_train, y_test = train_test_split(X, Y, test_size=0.2, random_state=42)"
   ]
  },
  {
   "cell_type": "code",
   "execution_count": 179,
   "id": "7f75b1f3-01cf-44c4-939c-912c536d0873",
   "metadata": {},
   "outputs": [],
   "source": [
    "####### Model Training"
   ]
  },
  {
   "cell_type": "code",
   "execution_count": 180,
   "id": "1691b281-5d28-49f5-89ba-d8c6a3ebdab0",
   "metadata": {},
   "outputs": [],
   "source": [
    "from sklearn import tree\n",
    "from sklearn.metrics import mean_absolute_error\n",
    "from sklearn.metrics import mean_absolute_percentage_error\n",
    "from sklearn.model_selection import cross_val_score"
   ]
  },
  {
   "cell_type": "code",
   "execution_count": 181,
   "id": "7551ecd4-9d2d-472a-b2d5-5ae59316cdc5",
   "metadata": {},
   "outputs": [],
   "source": [
    "### Decision Tree"
   ]
  },
  {
   "cell_type": "code",
   "execution_count": 182,
   "id": "644791d4-5cbe-471c-b30d-81cf5b84b9da",
   "metadata": {},
   "outputs": [],
   "source": [
    "dtr = tree.DecisionTreeRegressor(criterion=\"absolute_error\", max_depth=6, random_state=1)"
   ]
  },
  {
   "cell_type": "code",
   "execution_count": 183,
   "id": "15e8ffdc-34e2-418e-bc0a-46943abbe30a",
   "metadata": {},
   "outputs": [],
   "source": [
    "dtr = dtr.fit(X_train, y_train)\n",
    "# dtr_scores = cross_val_score(dtr, X_train, y_train, cv=10)"
   ]
  },
  {
   "cell_type": "code",
   "execution_count": 184,
   "id": "c9f66c1c-2ce5-432b-aadf-f935b7af8536",
   "metadata": {},
   "outputs": [
    {
     "name": "stdout",
     "output_type": "stream",
     "text": [
      "MAE of Decision Tree: 344.7506305480357\n",
      "MAPE of Decision Tree: 0.058993780530598026\n"
     ]
    }
   ],
   "source": [
    "y_pred = dtr.predict(X_test)\n",
    "print(f'MAE of Decision Tree: {mean_absolute_error(y_test, y_pred)}')\n",
    "print(f'MAPE of Decision Tree: {mean_absolute_percentage_error(y_test, y_pred)}')\n",
    "# print(dtr_scores)"
   ]
  },
  {
   "cell_type": "code",
   "execution_count": 185,
   "id": "a575aec8-c96f-4139-a6f7-494d8952c586",
   "metadata": {},
   "outputs": [],
   "source": [
    "### Random Forest"
   ]
  },
  {
   "cell_type": "code",
   "execution_count": 186,
   "id": "3035d7c4-962b-442e-b610-ab72977fcc94",
   "metadata": {},
   "outputs": [],
   "source": [
    "from sklearn.ensemble import RandomForestRegressor"
   ]
  },
  {
   "cell_type": "code",
   "execution_count": 189,
   "id": "5c99e274-de81-4c80-9f94-6edbe23f41cb",
   "metadata": {},
   "outputs": [
    {
     "name": "stdout",
     "output_type": "stream",
     "text": [
      "MAE of Random Forest: 337.22975419542405\n",
      "MAPE of Random Forest: 0.05784658926895946\n"
     ]
    }
   ],
   "source": [
    "rfr = RandomForestRegressor(n_estimators=250, max_depth=9, criterion=\"absolute_error\", oob_score=True, random_state=42)\n",
    "rfr.fit(X_train, np.array(y_train))\n",
    "y_pred_rf_250 = rfr.predict(X_test)\n",
    "print(f'MAE of Random Forest: {mean_absolute_error(y_test, y_pred_rf_250)}') #MAE\n",
    "print(f'MAPE of Random Forest: {mean_absolute_percentage_error(y_test, y_pred_rf_250)}') #MAPE"
   ]
  },
  {
   "cell_type": "code",
   "execution_count": 192,
   "id": "a69ba828-cdfa-49ff-894f-a67a1379017f",
   "metadata": {},
   "outputs": [],
   "source": [
    "### XGBoost"
   ]
  },
  {
   "cell_type": "code",
   "execution_count": 193,
   "id": "7c272132-cc01-4c45-97c9-7e20993cceb2",
   "metadata": {},
   "outputs": [],
   "source": [
    "from sklearn import ensemble"
   ]
  },
  {
   "cell_type": "code",
   "execution_count": 194,
   "id": "c4607336-3006-4015-98c9-c25cd2c7b179",
   "metadata": {},
   "outputs": [],
   "source": [
    "params = {\n",
    "    \"n_estimators\": 1300,\n",
    "    \"max_depth\": 8,\n",
    "    \"min_samples_split\": 2,\n",
    "    \"learning_rate\": 0.01,\n",
    "    \"loss\": \"absolute_error\",\n",
    "}"
   ]
  },
  {
   "cell_type": "code",
   "execution_count": 195,
   "id": "b704ed24-49b9-45eb-b9b6-3949f44bf37c",
   "metadata": {},
   "outputs": [
    {
     "data": {
      "text/html": [
       "<style>#sk-container-id-26 {color: black;}#sk-container-id-26 pre{padding: 0;}#sk-container-id-26 div.sk-toggleable {background-color: white;}#sk-container-id-26 label.sk-toggleable__label {cursor: pointer;display: block;width: 100%;margin-bottom: 0;padding: 0.3em;box-sizing: border-box;text-align: center;}#sk-container-id-26 label.sk-toggleable__label-arrow:before {content: \"▸\";float: left;margin-right: 0.25em;color: #696969;}#sk-container-id-26 label.sk-toggleable__label-arrow:hover:before {color: black;}#sk-container-id-26 div.sk-estimator:hover label.sk-toggleable__label-arrow:before {color: black;}#sk-container-id-26 div.sk-toggleable__content {max-height: 0;max-width: 0;overflow: hidden;text-align: left;background-color: #f0f8ff;}#sk-container-id-26 div.sk-toggleable__content pre {margin: 0.2em;color: black;border-radius: 0.25em;background-color: #f0f8ff;}#sk-container-id-26 input.sk-toggleable__control:checked~div.sk-toggleable__content {max-height: 200px;max-width: 100%;overflow: auto;}#sk-container-id-26 input.sk-toggleable__control:checked~label.sk-toggleable__label-arrow:before {content: \"▾\";}#sk-container-id-26 div.sk-estimator input.sk-toggleable__control:checked~label.sk-toggleable__label {background-color: #d4ebff;}#sk-container-id-26 div.sk-label input.sk-toggleable__control:checked~label.sk-toggleable__label {background-color: #d4ebff;}#sk-container-id-26 input.sk-hidden--visually {border: 0;clip: rect(1px 1px 1px 1px);clip: rect(1px, 1px, 1px, 1px);height: 1px;margin: -1px;overflow: hidden;padding: 0;position: absolute;width: 1px;}#sk-container-id-26 div.sk-estimator {font-family: monospace;background-color: #f0f8ff;border: 1px dotted black;border-radius: 0.25em;box-sizing: border-box;margin-bottom: 0.5em;}#sk-container-id-26 div.sk-estimator:hover {background-color: #d4ebff;}#sk-container-id-26 div.sk-parallel-item::after {content: \"\";width: 100%;border-bottom: 1px solid gray;flex-grow: 1;}#sk-container-id-26 div.sk-label:hover label.sk-toggleable__label {background-color: #d4ebff;}#sk-container-id-26 div.sk-serial::before {content: \"\";position: absolute;border-left: 1px solid gray;box-sizing: border-box;top: 0;bottom: 0;left: 50%;z-index: 0;}#sk-container-id-26 div.sk-serial {display: flex;flex-direction: column;align-items: center;background-color: white;padding-right: 0.2em;padding-left: 0.2em;position: relative;}#sk-container-id-26 div.sk-item {position: relative;z-index: 1;}#sk-container-id-26 div.sk-parallel {display: flex;align-items: stretch;justify-content: center;background-color: white;position: relative;}#sk-container-id-26 div.sk-item::before, #sk-container-id-26 div.sk-parallel-item::before {content: \"\";position: absolute;border-left: 1px solid gray;box-sizing: border-box;top: 0;bottom: 0;left: 50%;z-index: -1;}#sk-container-id-26 div.sk-parallel-item {display: flex;flex-direction: column;z-index: 1;position: relative;background-color: white;}#sk-container-id-26 div.sk-parallel-item:first-child::after {align-self: flex-end;width: 50%;}#sk-container-id-26 div.sk-parallel-item:last-child::after {align-self: flex-start;width: 50%;}#sk-container-id-26 div.sk-parallel-item:only-child::after {width: 0;}#sk-container-id-26 div.sk-dashed-wrapped {border: 1px dashed gray;margin: 0 0.4em 0.5em 0.4em;box-sizing: border-box;padding-bottom: 0.4em;background-color: white;}#sk-container-id-26 div.sk-label label {font-family: monospace;font-weight: bold;display: inline-block;line-height: 1.2em;}#sk-container-id-26 div.sk-label-container {text-align: center;}#sk-container-id-26 div.sk-container {/* jupyter's `normalize.less` sets `[hidden] { display: none; }` but bootstrap.min.css set `[hidden] { display: none !important; }` so we also need the `!important` here to be able to override the default hidden behavior on the sphinx rendered scikit-learn.org. See: https://github.com/scikit-learn/scikit-learn/issues/21755 */display: inline-block !important;position: relative;}#sk-container-id-26 div.sk-text-repr-fallback {display: none;}</style><div id=\"sk-container-id-26\" class=\"sk-top-container\"><div class=\"sk-text-repr-fallback\"><pre>GradientBoostingRegressor(learning_rate=0.01, loss=&#x27;absolute_error&#x27;,\n",
       "                          max_depth=8, n_estimators=1300, random_state=1)</pre><b>In a Jupyter environment, please rerun this cell to show the HTML representation or trust the notebook. <br />On GitHub, the HTML representation is unable to render, please try loading this page with nbviewer.org.</b></div><div class=\"sk-container\" hidden><div class=\"sk-item\"><div class=\"sk-estimator sk-toggleable\"><input class=\"sk-toggleable__control sk-hidden--visually\" id=\"sk-estimator-id-26\" type=\"checkbox\" checked><label for=\"sk-estimator-id-26\" class=\"sk-toggleable__label sk-toggleable__label-arrow\">GradientBoostingRegressor</label><div class=\"sk-toggleable__content\"><pre>GradientBoostingRegressor(learning_rate=0.01, loss=&#x27;absolute_error&#x27;,\n",
       "                          max_depth=8, n_estimators=1300, random_state=1)</pre></div></div></div></div></div>"
      ],
      "text/plain": [
       "GradientBoostingRegressor(learning_rate=0.01, loss='absolute_error',\n",
       "                          max_depth=8, n_estimators=1300, random_state=1)"
      ]
     },
     "execution_count": 195,
     "metadata": {},
     "output_type": "execute_result"
    }
   ],
   "source": [
    "xgb_reg = ensemble.GradientBoostingRegressor(**params, random_state=1)\n",
    "xgb_reg.fit(X_train, y_train)\n",
    "# xgb_reg_score=cross_val_score(xgb_reg, X_train, y_train,cv=10)"
   ]
  },
  {
   "cell_type": "code",
   "execution_count": 196,
   "id": "551a8d61-f4ee-47c7-a1c4-c234060297f6",
   "metadata": {},
   "outputs": [
    {
     "name": "stdout",
     "output_type": "stream",
     "text": [
      " MAE of XGBoost: 338.09466325877077\n",
      " MAPE of XGBoost: 0.05781759719545919\n"
     ]
    }
   ],
   "source": [
    "y_pred_xgb = xgb_reg.predict(X_test)\n",
    "print(f' MAE of XGBoost: {mean_absolute_error(y_test, y_pred_xgb)}')\n",
    "print(f' MAPE of XGBoost: {mean_absolute_percentage_error(y_test, y_pred_xgb)}')"
   ]
  },
  {
   "cell_type": "code",
   "execution_count": 197,
   "id": "7c42babd-77f0-41ee-ae81-a9351509ffe2",
   "metadata": {},
   "outputs": [],
   "source": [
    "#### Inference"
   ]
  },
  {
   "cell_type": "code",
   "execution_count": 198,
   "id": "089bfea8-1208-4728-be92-11da15163191",
   "metadata": {},
   "outputs": [],
   "source": [
    "sample_format=pd.read_csv('./../../data/blueberry_yield_pred/sample_submission.csv')"
   ]
  },
  {
   "cell_type": "code",
   "execution_count": 199,
   "id": "baa06976-4337-480e-9580-7b721ab18760",
   "metadata": {},
   "outputs": [
    {
     "data": {
      "text/html": [
       "<div>\n",
       "<style scoped>\n",
       "    .dataframe tbody tr th:only-of-type {\n",
       "        vertical-align: middle;\n",
       "    }\n",
       "\n",
       "    .dataframe tbody tr th {\n",
       "        vertical-align: top;\n",
       "    }\n",
       "\n",
       "    .dataframe thead th {\n",
       "        text-align: right;\n",
       "    }\n",
       "</style>\n",
       "<table border=\"1\" class=\"dataframe\">\n",
       "  <thead>\n",
       "    <tr style=\"text-align: right;\">\n",
       "      <th></th>\n",
       "      <th>id</th>\n",
       "      <th>yield</th>\n",
       "    </tr>\n",
       "  </thead>\n",
       "  <tbody>\n",
       "    <tr>\n",
       "      <th>0</th>\n",
       "      <td>15289</td>\n",
       "      <td>6025.194</td>\n",
       "    </tr>\n",
       "    <tr>\n",
       "      <th>1</th>\n",
       "      <td>15290</td>\n",
       "      <td>6025.194</td>\n",
       "    </tr>\n",
       "    <tr>\n",
       "      <th>2</th>\n",
       "      <td>15291</td>\n",
       "      <td>6025.194</td>\n",
       "    </tr>\n",
       "    <tr>\n",
       "      <th>3</th>\n",
       "      <td>15292</td>\n",
       "      <td>6025.194</td>\n",
       "    </tr>\n",
       "    <tr>\n",
       "      <th>4</th>\n",
       "      <td>15293</td>\n",
       "      <td>6025.194</td>\n",
       "    </tr>\n",
       "  </tbody>\n",
       "</table>\n",
       "</div>"
      ],
      "text/plain": [
       "      id     yield\n",
       "0  15289  6025.194\n",
       "1  15290  6025.194\n",
       "2  15291  6025.194\n",
       "3  15292  6025.194\n",
       "4  15293  6025.194"
      ]
     },
     "execution_count": 199,
     "metadata": {},
     "output_type": "execute_result"
    }
   ],
   "source": [
    "sample_format.head()"
   ]
  },
  {
   "cell_type": "code",
   "execution_count": 200,
   "id": "df584e43-5cea-46ed-a455-fd5bb9568289",
   "metadata": {},
   "outputs": [
    {
     "data": {
      "text/plain": [
       "Index(['id', 'clonesize', 'honeybee', 'bumbles', 'andrena', 'osmia',\n",
       "       'MaxOfUpperTRange', 'MinOfUpperTRange', 'AverageOfUpperTRange',\n",
       "       'MaxOfLowerTRange', 'MinOfLowerTRange', 'AverageOfLowerTRange',\n",
       "       'RainingDays', 'AverageRainingDays', 'fruitset', 'fruitmass', 'seeds'],\n",
       "      dtype='object')"
      ]
     },
     "execution_count": 200,
     "metadata": {},
     "output_type": "execute_result"
    }
   ],
   "source": [
    "test_df.columns"
   ]
  },
  {
   "cell_type": "code",
   "execution_count": 201,
   "id": "a942e1fb-135b-47d0-9d51-2785c72a73b2",
   "metadata": {},
   "outputs": [],
   "source": [
    "test_df1 = test_df[['clonesize', 'honeybee', 'bumbles', 'andrena', 'osmia',\n",
    "       'MaxOfUpperTRange', 'MinOfUpperTRange', 'AverageOfUpperTRange',\n",
    "       'MaxOfLowerTRange', 'MinOfLowerTRange', 'AverageOfLowerTRange',\n",
    "       'RainingDays', 'AverageRainingDays', 'fruitset', 'fruitmass', 'seeds']]"
   ]
  },
  {
   "cell_type": "code",
   "execution_count": 202,
   "id": "db2b972f-6ab8-42b5-83b8-0ab6082619f0",
   "metadata": {},
   "outputs": [],
   "source": [
    "test_df1_id = test_df['id'].to_list()"
   ]
  },
  {
   "cell_type": "code",
   "execution_count": 203,
   "id": "c88377ab-046b-4f14-95e7-eb30bcdbfb9c",
   "metadata": {},
   "outputs": [],
   "source": [
    "test_pred = list(rfr.predict(test_df1))"
   ]
  },
  {
   "cell_type": "code",
   "execution_count": 204,
   "id": "45365cca-6865-45a8-b78c-2a0de6d0d4d7",
   "metadata": {},
   "outputs": [],
   "source": [
    "out_df = pd.DataFrame(list(zip(test_df1_id, test_pred)), columns = ['id', 'yield'])"
   ]
  },
  {
   "cell_type": "code",
   "execution_count": 205,
   "id": "69c7a31b-c3ae-4fb5-ba3f-6cc21a3b9412",
   "metadata": {},
   "outputs": [
    {
     "data": {
      "text/html": [
       "<div>\n",
       "<style scoped>\n",
       "    .dataframe tbody tr th:only-of-type {\n",
       "        vertical-align: middle;\n",
       "    }\n",
       "\n",
       "    .dataframe tbody tr th {\n",
       "        vertical-align: top;\n",
       "    }\n",
       "\n",
       "    .dataframe thead th {\n",
       "        text-align: right;\n",
       "    }\n",
       "</style>\n",
       "<table border=\"1\" class=\"dataframe\">\n",
       "  <thead>\n",
       "    <tr style=\"text-align: right;\">\n",
       "      <th></th>\n",
       "      <th>id</th>\n",
       "      <th>yield</th>\n",
       "    </tr>\n",
       "  </thead>\n",
       "  <tbody>\n",
       "    <tr>\n",
       "      <th>10189</th>\n",
       "      <td>25478</td>\n",
       "      <td>5421.922538</td>\n",
       "    </tr>\n",
       "    <tr>\n",
       "      <th>10190</th>\n",
       "      <td>25479</td>\n",
       "      <td>5636.798108</td>\n",
       "    </tr>\n",
       "    <tr>\n",
       "      <th>10191</th>\n",
       "      <td>25480</td>\n",
       "      <td>6481.141367</td>\n",
       "    </tr>\n",
       "    <tr>\n",
       "      <th>10192</th>\n",
       "      <td>25481</td>\n",
       "      <td>4379.983677</td>\n",
       "    </tr>\n",
       "    <tr>\n",
       "      <th>10193</th>\n",
       "      <td>25482</td>\n",
       "      <td>7259.345451</td>\n",
       "    </tr>\n",
       "  </tbody>\n",
       "</table>\n",
       "</div>"
      ],
      "text/plain": [
       "          id        yield\n",
       "10189  25478  5421.922538\n",
       "10190  25479  5636.798108\n",
       "10191  25480  6481.141367\n",
       "10192  25481  4379.983677\n",
       "10193  25482  7259.345451"
      ]
     },
     "execution_count": 205,
     "metadata": {},
     "output_type": "execute_result"
    }
   ],
   "source": [
    "out_df.tail()"
   ]
  },
  {
   "cell_type": "code",
   "execution_count": 206,
   "id": "eabf0600-3873-4d0d-9a38-c219f1c0c871",
   "metadata": {},
   "outputs": [],
   "source": [
    "out_df.to_csv(\"rf_output_v3.csv\", index=False)"
   ]
  },
  {
   "cell_type": "code",
   "execution_count": 207,
   "id": "225c5caa-b1e5-4d65-97e3-0ddf48cc6d1b",
   "metadata": {},
   "outputs": [],
   "source": [
    "### Hyperparameter Tuning and Ensemble Technique"
   ]
  },
  {
   "cell_type": "code",
   "execution_count": 208,
   "id": "e8ecd3b9-941b-464d-b767-b787997defa2",
   "metadata": {},
   "outputs": [],
   "source": [
    "list1 = []\n",
    "for score, name in zip(rfr.feature_importances_,X_train.columns):\n",
    "    list1.append((round(score,5),name))"
   ]
  },
  {
   "cell_type": "code",
   "execution_count": 209,
   "id": "3b1e38f8-fcef-413f-8404-bad0917e4ec8",
   "metadata": {},
   "outputs": [
    {
     "name": "stdout",
     "output_type": "stream",
     "text": [
      "[(0.76702, 'fruitset'), (0.18888, 'seeds'), (0.02058, 'fruitmass'), (0.00313, 'andrena'), (0.00307, 'osmia'), (0.00285, 'AverageRainingDays'), (0.00261, 'RainingDays'), (0.00173, 'MaxOfLowerTRange'), (0.00169, 'MinOfUpperTRange'), (0.00145, 'clonesize'), (0.00138, 'AverageOfLowerTRange'), (0.0013, 'honeybee'), (0.00119, 'bumbles'), (0.00111, 'AverageOfUpperTRange'), (0.00104, 'MinOfLowerTRange'), (0.00096, 'MaxOfUpperTRange')]\n"
     ]
    }
   ],
   "source": [
    "print(sorted(list1)[::-1])"
   ]
  },
  {
   "cell_type": "code",
   "execution_count": 210,
   "id": "38adda3b-56f0-404f-97de-e86efcb44e6a",
   "metadata": {},
   "outputs": [],
   "source": [
    "df1 = pd.DataFrame(list(zip(X_train.columns, rfr.feature_importances_)), columns = ['feature', 'feature_imp'])"
   ]
  },
  {
   "cell_type": "code",
   "execution_count": 211,
   "id": "f40e1dd6-0e5c-40b8-bc96-27445c215be0",
   "metadata": {},
   "outputs": [
    {
     "data": {
      "text/html": [
       "<div>\n",
       "<style scoped>\n",
       "    .dataframe tbody tr th:only-of-type {\n",
       "        vertical-align: middle;\n",
       "    }\n",
       "\n",
       "    .dataframe tbody tr th {\n",
       "        vertical-align: top;\n",
       "    }\n",
       "\n",
       "    .dataframe thead th {\n",
       "        text-align: right;\n",
       "    }\n",
       "</style>\n",
       "<table border=\"1\" class=\"dataframe\">\n",
       "  <thead>\n",
       "    <tr style=\"text-align: right;\">\n",
       "      <th></th>\n",
       "      <th>feature</th>\n",
       "      <th>feature_imp</th>\n",
       "    </tr>\n",
       "  </thead>\n",
       "  <tbody>\n",
       "    <tr>\n",
       "      <th>0</th>\n",
       "      <td>clonesize</td>\n",
       "      <td>0.001450</td>\n",
       "    </tr>\n",
       "    <tr>\n",
       "      <th>1</th>\n",
       "      <td>honeybee</td>\n",
       "      <td>0.001302</td>\n",
       "    </tr>\n",
       "    <tr>\n",
       "      <th>2</th>\n",
       "      <td>bumbles</td>\n",
       "      <td>0.001191</td>\n",
       "    </tr>\n",
       "    <tr>\n",
       "      <th>3</th>\n",
       "      <td>andrena</td>\n",
       "      <td>0.003130</td>\n",
       "    </tr>\n",
       "    <tr>\n",
       "      <th>4</th>\n",
       "      <td>osmia</td>\n",
       "      <td>0.003072</td>\n",
       "    </tr>\n",
       "    <tr>\n",
       "      <th>5</th>\n",
       "      <td>MaxOfUpperTRange</td>\n",
       "      <td>0.000961</td>\n",
       "    </tr>\n",
       "    <tr>\n",
       "      <th>6</th>\n",
       "      <td>MinOfUpperTRange</td>\n",
       "      <td>0.001692</td>\n",
       "    </tr>\n",
       "    <tr>\n",
       "      <th>7</th>\n",
       "      <td>AverageOfUpperTRange</td>\n",
       "      <td>0.001109</td>\n",
       "    </tr>\n",
       "    <tr>\n",
       "      <th>8</th>\n",
       "      <td>MaxOfLowerTRange</td>\n",
       "      <td>0.001734</td>\n",
       "    </tr>\n",
       "    <tr>\n",
       "      <th>9</th>\n",
       "      <td>MinOfLowerTRange</td>\n",
       "      <td>0.001039</td>\n",
       "    </tr>\n",
       "    <tr>\n",
       "      <th>10</th>\n",
       "      <td>AverageOfLowerTRange</td>\n",
       "      <td>0.001376</td>\n",
       "    </tr>\n",
       "    <tr>\n",
       "      <th>11</th>\n",
       "      <td>RainingDays</td>\n",
       "      <td>0.002607</td>\n",
       "    </tr>\n",
       "    <tr>\n",
       "      <th>12</th>\n",
       "      <td>AverageRainingDays</td>\n",
       "      <td>0.002855</td>\n",
       "    </tr>\n",
       "    <tr>\n",
       "      <th>13</th>\n",
       "      <td>fruitset</td>\n",
       "      <td>0.767020</td>\n",
       "    </tr>\n",
       "    <tr>\n",
       "      <th>14</th>\n",
       "      <td>fruitmass</td>\n",
       "      <td>0.020583</td>\n",
       "    </tr>\n",
       "    <tr>\n",
       "      <th>15</th>\n",
       "      <td>seeds</td>\n",
       "      <td>0.188880</td>\n",
       "    </tr>\n",
       "  </tbody>\n",
       "</table>\n",
       "</div>"
      ],
      "text/plain": [
       "                 feature  feature_imp\n",
       "0              clonesize     0.001450\n",
       "1               honeybee     0.001302\n",
       "2                bumbles     0.001191\n",
       "3                andrena     0.003130\n",
       "4                  osmia     0.003072\n",
       "5       MaxOfUpperTRange     0.000961\n",
       "6       MinOfUpperTRange     0.001692\n",
       "7   AverageOfUpperTRange     0.001109\n",
       "8       MaxOfLowerTRange     0.001734\n",
       "9       MinOfLowerTRange     0.001039\n",
       "10  AverageOfLowerTRange     0.001376\n",
       "11           RainingDays     0.002607\n",
       "12    AverageRainingDays     0.002855\n",
       "13              fruitset     0.767020\n",
       "14             fruitmass     0.020583\n",
       "15                 seeds     0.188880"
      ]
     },
     "execution_count": 211,
     "metadata": {},
     "output_type": "execute_result"
    }
   ],
   "source": [
    "df1.head(25)"
   ]
  },
  {
   "cell_type": "code",
   "execution_count": 212,
   "id": "1777d932-8ec1-47b0-b85f-68df38164f1c",
   "metadata": {},
   "outputs": [],
   "source": [
    "df3 = pd.merge(df1, df2, on=\"feature\", how=\"inner\")"
   ]
  },
  {
   "cell_type": "code",
   "execution_count": 213,
   "id": "62133bcb-8f16-4b1a-b943-43e9bbf3303b",
   "metadata": {},
   "outputs": [
    {
     "data": {
      "text/html": [
       "<div>\n",
       "<style scoped>\n",
       "    .dataframe tbody tr th:only-of-type {\n",
       "        vertical-align: middle;\n",
       "    }\n",
       "\n",
       "    .dataframe tbody tr th {\n",
       "        vertical-align: top;\n",
       "    }\n",
       "\n",
       "    .dataframe thead th {\n",
       "        text-align: right;\n",
       "    }\n",
       "</style>\n",
       "<table border=\"1\" class=\"dataframe\">\n",
       "  <thead>\n",
       "    <tr style=\"text-align: right;\">\n",
       "      <th></th>\n",
       "      <th>feature</th>\n",
       "      <th>feature_imp</th>\n",
       "      <th>corr</th>\n",
       "    </tr>\n",
       "  </thead>\n",
       "  <tbody>\n",
       "    <tr>\n",
       "      <th>13</th>\n",
       "      <td>fruitset</td>\n",
       "      <td>0.767020</td>\n",
       "      <td>0.885967</td>\n",
       "    </tr>\n",
       "    <tr>\n",
       "      <th>15</th>\n",
       "      <td>seeds</td>\n",
       "      <td>0.188880</td>\n",
       "      <td>0.868853</td>\n",
       "    </tr>\n",
       "    <tr>\n",
       "      <th>14</th>\n",
       "      <td>fruitmass</td>\n",
       "      <td>0.020583</td>\n",
       "      <td>0.826481</td>\n",
       "    </tr>\n",
       "    <tr>\n",
       "      <th>3</th>\n",
       "      <td>andrena</td>\n",
       "      <td>0.003130</td>\n",
       "      <td>0.073969</td>\n",
       "    </tr>\n",
       "    <tr>\n",
       "      <th>4</th>\n",
       "      <td>osmia</td>\n",
       "      <td>0.003072</td>\n",
       "      <td>0.198264</td>\n",
       "    </tr>\n",
       "    <tr>\n",
       "      <th>12</th>\n",
       "      <td>AverageRainingDays</td>\n",
       "      <td>0.002855</td>\n",
       "      <td>-0.483870</td>\n",
       "    </tr>\n",
       "    <tr>\n",
       "      <th>11</th>\n",
       "      <td>RainingDays</td>\n",
       "      <td>0.002607</td>\n",
       "      <td>-0.477191</td>\n",
       "    </tr>\n",
       "    <tr>\n",
       "      <th>8</th>\n",
       "      <td>MaxOfLowerTRange</td>\n",
       "      <td>0.001734</td>\n",
       "      <td>-0.022197</td>\n",
       "    </tr>\n",
       "    <tr>\n",
       "      <th>6</th>\n",
       "      <td>MinOfUpperTRange</td>\n",
       "      <td>0.001692</td>\n",
       "      <td>-0.021929</td>\n",
       "    </tr>\n",
       "    <tr>\n",
       "      <th>0</th>\n",
       "      <td>clonesize</td>\n",
       "      <td>0.001450</td>\n",
       "      <td>-0.382619</td>\n",
       "    </tr>\n",
       "    <tr>\n",
       "      <th>10</th>\n",
       "      <td>AverageOfLowerTRange</td>\n",
       "      <td>0.001376</td>\n",
       "      <td>-0.022081</td>\n",
       "    </tr>\n",
       "    <tr>\n",
       "      <th>1</th>\n",
       "      <td>honeybee</td>\n",
       "      <td>0.001302</td>\n",
       "      <td>-0.118001</td>\n",
       "    </tr>\n",
       "    <tr>\n",
       "      <th>2</th>\n",
       "      <td>bumbles</td>\n",
       "      <td>0.001191</td>\n",
       "      <td>0.161145</td>\n",
       "    </tr>\n",
       "    <tr>\n",
       "      <th>7</th>\n",
       "      <td>AverageOfUpperTRange</td>\n",
       "      <td>0.001109</td>\n",
       "      <td>-0.021940</td>\n",
       "    </tr>\n",
       "    <tr>\n",
       "      <th>9</th>\n",
       "      <td>MinOfLowerTRange</td>\n",
       "      <td>0.001039</td>\n",
       "      <td>-0.022319</td>\n",
       "    </tr>\n",
       "    <tr>\n",
       "      <th>5</th>\n",
       "      <td>MaxOfUpperTRange</td>\n",
       "      <td>0.000961</td>\n",
       "      <td>-0.022517</td>\n",
       "    </tr>\n",
       "  </tbody>\n",
       "</table>\n",
       "</div>"
      ],
      "text/plain": [
       "                 feature  feature_imp      corr\n",
       "13              fruitset     0.767020  0.885967\n",
       "15                 seeds     0.188880  0.868853\n",
       "14             fruitmass     0.020583  0.826481\n",
       "3                andrena     0.003130  0.073969\n",
       "4                  osmia     0.003072  0.198264\n",
       "12    AverageRainingDays     0.002855 -0.483870\n",
       "11           RainingDays     0.002607 -0.477191\n",
       "8       MaxOfLowerTRange     0.001734 -0.022197\n",
       "6       MinOfUpperTRange     0.001692 -0.021929\n",
       "0              clonesize     0.001450 -0.382619\n",
       "10  AverageOfLowerTRange     0.001376 -0.022081\n",
       "1               honeybee     0.001302 -0.118001\n",
       "2                bumbles     0.001191  0.161145\n",
       "7   AverageOfUpperTRange     0.001109 -0.021940\n",
       "9       MinOfLowerTRange     0.001039 -0.022319\n",
       "5       MaxOfUpperTRange     0.000961 -0.022517"
      ]
     },
     "execution_count": 213,
     "metadata": {},
     "output_type": "execute_result"
    }
   ],
   "source": [
    "df3.sort_values('feature_imp', ascending=False).head(25)"
   ]
  },
  {
   "cell_type": "code",
   "execution_count": 237,
   "id": "525fc791-9203-4dd8-b783-564c2ab9582a",
   "metadata": {},
   "outputs": [
    {
     "name": "stdout",
     "output_type": "stream",
     "text": [
      " MAPE of Ensemble with threshold: (0, 0.05781759719545919)\n",
      " MAPE of Ensemble with threshold: (0.1, 0.05767696243570819)\n",
      " MAPE of Ensemble with threshold: (0.2, 0.05757321445511271)\n",
      " MAPE of Ensemble with threshold: (0.3, 0.05749834848512959)\n",
      " MAPE of Ensemble with threshold: (0.4, 0.05746045863191918)\n",
      " MAPE of Ensemble with threshold: (0.5, 0.05745315669910563)\n",
      " MAPE of Ensemble with threshold: (0.6, 0.05747376795889673)\n",
      " MAPE of Ensemble with threshold: (0.7, 0.0575146755560182)\n",
      " MAPE of Ensemble with threshold: (0.8, 0.057587641598082655)\n",
      " MAPE of Ensemble with threshold: (0.9, 0.057698843830827476)\n",
      " MAPE of Ensemble with threshold: (1, 0.05784658926895946)\n",
      "\n",
      "\n",
      "\n",
      "\n",
      "   thres       MAE\n",
      "5    0.5  0.057453\n"
     ]
    }
   ],
   "source": [
    "### Random Forest and XGB Ensemble\n",
    "\n",
    "thres_list = [0, 0.1, 0.2, 0.3, 0.4, 0.5, 0.6, 0.7, 0.8, 0.9, 1]\n",
    "result_list= []\n",
    "for thres in thres_list:\n",
    "    weighted_rf_xbg_pred = [((thres*i)+((1-thres)*j)) for i, j in zip(y_pred_rf_250, y_pred_xgb)]\n",
    "    print(f' MAPE of Ensemble with threshold: {thres, mean_absolute_percentage_error(y_test, weighted_rf_xbg_pred)}')\n",
    "    result_list.append(mean_absolute_percentage_error(y_test, weighted_rf_xbg_pred))\n",
    "    \n",
    "combined_result_list =  pd.DataFrame(list(zip(thres_list, result_list)), columns = ['thres', 'MAE'])\n",
    "print('\\n\\n\\n')\n",
    "print(combined_result_list.sort_values(by=['MAE']).head(1))"
   ]
  },
  {
   "cell_type": "code",
   "execution_count": 238,
   "id": "eaab384e-8069-44eb-a6e0-d86718e46d98",
   "metadata": {},
   "outputs": [
    {
     "name": "stdout",
     "output_type": "stream",
     "text": [
      " MAPE of Ensemble with threshold: (0, 0.05781759719545919)\n",
      " MAPE of Ensemble with threshold: (0.1, 0.05762937266159877)\n",
      " MAPE of Ensemble with threshold: (0.2, 0.0575195082473523)\n",
      " MAPE of Ensemble with threshold: (0.3, 0.05746912245791289)\n",
      " MAPE of Ensemble with threshold: (0.4, 0.057473720367003676)\n",
      " MAPE of Ensemble with threshold: (0.5, 0.057556813118292686)\n",
      " MAPE of Ensemble with threshold: (0.6, 0.05772354712405735)\n",
      " MAPE of Ensemble with threshold: (0.7, 0.05794153487825294)\n",
      " MAPE of Ensemble with threshold: (0.8, 0.05822509191516154)\n",
      " MAPE of Ensemble with threshold: (0.9, 0.05857321455171656)\n",
      " MAPE of Ensemble with threshold: (1, 0.058993780530598026)\n",
      "\n",
      "\n",
      "\n",
      "\n",
      "   thres       MAE\n",
      "0    0.0  0.057847\n"
     ]
    }
   ],
   "source": [
    "### Decision Tree and XGB Ensemble\n",
    "\n",
    "thres_list = [0, 0.1, 0.2, 0.3, 0.4, 0.5, 0.6, 0.7, 0.8, 0.9, 1]\n",
    "result_list_dt = []\n",
    "for thres in thres_list:\n",
    "    weighted_dt_xbg_pred = [((thres*i)+((1-thres)*j)) for i, j in zip(y_pred, y_pred_xgb)]\n",
    "    print(f' MAPE of Ensemble with threshold: {thres, mean_absolute_percentage_error(y_test, weighted_dt_xbg_pred)}')\n",
    "    result_list_dt.append(mean_absolute_percentage_error(y_test, weighted_rf_xbg_pred))\n",
    "    \n",
    "combined_result_list_dt =  pd.DataFrame(list(zip(thres_list, result_list_dt)), columns = ['thres', 'MAE'])\n",
    "print('\\n\\n\\n')\n",
    "print(combined_result_list_dt.sort_values(by=['MAE']).head(1))"
   ]
  },
  {
   "cell_type": "code",
   "execution_count": null,
   "id": "d9fa6079-279c-46a4-8d2b-085cf120a339",
   "metadata": {},
   "outputs": [],
   "source": []
  }
 ],
 "metadata": {
  "kernelspec": {
   "display_name": "amrata",
   "language": "python",
   "name": "amrata"
  },
  "language_info": {
   "codemirror_mode": {
    "name": "ipython",
    "version": 3
   },
   "file_extension": ".py",
   "mimetype": "text/x-python",
   "name": "python",
   "nbconvert_exporter": "python",
   "pygments_lexer": "ipython3",
   "version": "3.8.17"
  }
 },
 "nbformat": 4,
 "nbformat_minor": 5
}
